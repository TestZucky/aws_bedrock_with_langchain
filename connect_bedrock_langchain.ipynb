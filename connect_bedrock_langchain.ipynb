{
 "cells": [
  {
   "cell_type": "markdown",
   "metadata": {},
   "source": [
    "### How we can connect AWS Bedrock FM through Langchain\n",
    "\n",
    "**Required**:\n",
    "* AWS_ACCESS_KEY_ID\n",
    "* AWS_SECRET_ACCESS_KEY\n",
    "* REGION_NAME\n",
    "* MODEL_ID"
   ]
  },
  {
   "cell_type": "code",
   "execution_count": 1,
   "metadata": {},
   "outputs": [],
   "source": [
    "import boto3, os\n",
    "from dotenv import load_dotenv\n",
    "from langchain_core.output_parsers import StrOutputParser\n",
    "from langchain_core.prompts import PromptTemplate\n",
    "from langchain_community.chat_models.bedrock import BedrockChat"
   ]
  },
  {
   "cell_type": "markdown",
   "metadata": {},
   "source": [
    "There are 2 ways to set your access key and secret access key.\n",
    "\n",
    "Store your keys in AWS credentials directory:\n",
    "* Windows: C:\\Users\\yout_username\\.aws\n",
    "* macOS: /Users/your_username/.aws/credentials\n",
    "* Linux: /home/your_username/.aws/credentials\n",
    "\n",
    "Store the keys in environment variables"
   ]
  },
  {
   "cell_type": "code",
   "execution_count": 2,
   "metadata": {},
   "outputs": [
    {
     "data": {
      "text/plain": [
       "True"
      ]
     },
     "execution_count": 2,
     "metadata": {},
     "output_type": "execute_result"
    }
   ],
   "source": [
    "load_dotenv()"
   ]
  },
  {
   "cell_type": "code",
   "execution_count": 3,
   "metadata": {},
   "outputs": [],
   "source": [
    "# Store your keys in env variables\n",
    "\n",
    "client = boto3.client(\n",
    "    'bedrock-runtime',\n",
    "    aws_access_key_id = os.getenv(\"AWS_ACCESS_KEY_ID\"),\n",
    "    aws_secret_access_key = os.getenv(\"AWS_SECRET_ACCESS_KEY\"),\n",
    "    region_name = 'us-east-1',\n",
    ")"
   ]
  },
  {
   "cell_type": "code",
   "execution_count": 4,
   "metadata": {},
   "outputs": [],
   "source": [
    "# # Store keys in AWS credentials file\n",
    "\n",
    "# import boto3.session\n",
    "\n",
    "\n",
    "# session = boto3.session.Session(profile_name='bedrock_zucky')\n",
    "# client = session.client('bedrock-runtime', region_name = 'us-east-1')"
   ]
  },
  {
   "cell_type": "code",
   "execution_count": 5,
   "metadata": {},
   "outputs": [],
   "source": [
    "# get the model id here : https://docs.aws.amazon.com/bedrock/latest/userguide/model-ids.html\n",
    "\n",
    "model_id = \"anthropic.claude-3-haiku-20240307-v1:0\"\n",
    "model_kwargs = {\n",
    "    \"max_tokens\": 512,\n",
    "    \"temperature\": 0.0,\n",
    "    \"top_p\": 1,\n",
    "    \"top_k\": 1,\n",
    "}"
   ]
  },
  {
   "cell_type": "code",
   "execution_count": 6,
   "metadata": {},
   "outputs": [],
   "source": [
    "llm_bedrock = BedrockChat(\n",
    "    client=client,\n",
    "    model_id=model_id,\n",
    "    model_kwargs=model_kwargs\n",
    ")"
   ]
  },
  {
   "cell_type": "code",
   "execution_count": 8,
   "metadata": {},
   "outputs": [],
   "source": [
    "template = '''\n",
    "    You are a math teacher having 10 years of experience on teaching math.\n",
    "    You will be given a problem you have to solve it and give the results.\n",
    "    \n",
    "    Question: {question}\n",
    "'''\n",
    "\n",
    "math_template = PromptTemplate(input_variables=['question'], template=template)"
   ]
  },
  {
   "cell_type": "code",
   "execution_count": 9,
   "metadata": {},
   "outputs": [],
   "source": [
    "math_tutor_chain = math_template | llm_bedrock | StrOutputParser()"
   ]
  },
  {
   "cell_type": "code",
   "execution_count": 10,
   "metadata": {},
   "outputs": [
    {
     "name": "stdout",
     "output_type": "stream",
     "text": [
      "As a math teacher with 10 years of experience, I'm happy to solve the given quadratic equation using the quadratic formula.\n",
      "\n",
      "The quadratic equation is: 2x^2 - 7x + 6 = 0\n",
      "\n",
      "To find the roots, we can use the quadratic formula:\n",
      "\n",
      "x = (-b ± √(b^2 - 4ac)) / (2a)\n",
      "\n",
      "Where:\n",
      "a = 2\n",
      "b = -7\n",
      "c = 6\n",
      "\n",
      "Substituting the values, we get:\n",
      "\n",
      "x = (-(-7) ± √((-7)^2 - 4(2)(6))) / (2(2))\n",
      "x = (7 ± √(49 - 48)) / 4\n",
      "x = (7 ± √1) / 4\n",
      "x = (7 ± 1) / 4\n",
      "\n",
      "Therefore, the two roots of the quadratic equation 2x^2 - 7x + 6 = 0 are:\n",
      "\n",
      "x1 = (7 + 1) / 4 = 2\n",
      "x2 = (7 - 1) / 4 = 1.5\n",
      "\n",
      "So, the roots of the given quadratic equation are x1 = 2 and x2 = 1.5.\n"
     ]
    }
   ],
   "source": [
    "print(math_tutor_chain.invoke({\"question\": \"Using the quadratic formula, find the roots of the quadratic equation 2x2 – 7x + 6 = 0.\"}))"
   ]
  }
 ],
 "metadata": {
  "kernelspec": {
   "display_name": "Python 3",
   "language": "python",
   "name": "python3"
  },
  "language_info": {
   "codemirror_mode": {
    "name": "ipython",
    "version": 3
   },
   "file_extension": ".py",
   "mimetype": "text/x-python",
   "name": "python",
   "nbconvert_exporter": "python",
   "pygments_lexer": "ipython3",
   "version": "3.11.4"
  }
 },
 "nbformat": 4,
 "nbformat_minor": 2
}
